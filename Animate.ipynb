{
 "cells": [
  {
   "cell_type": "code",
   "execution_count": null,
   "id": "c8395100-53f7-4314-8869-fec2af66ab32",
   "metadata": {},
   "outputs": [],
   "source": [
    "from PIL import Image\n",
    "from tqdm.notebook import tqdm"
   ]
  },
  {
   "cell_type": "code",
   "execution_count": null,
   "id": "bc30e920-7241-4bd5-a5b0-f275897ffdfc",
   "metadata": {},
   "outputs": [],
   "source": [
    "def convert_to_png(npz_files, rows, columns):\n",
    "    \"\"\"\n",
    "    Given a list of npz filenames, this function reads each npz file, extracts the 12-band geospatial images,\n",
    "    and saves them as a sequence of PNG images.\n",
    "    \n",
    "    Parameters:\n",
    "    npz_files: list of str, names of the npz files to read\n",
    "    rows: int, number of rows for sub-images\n",
    "    columns: int, number of columns for sub-images\n",
    "    \"\"\"\n",
    "    if len(npz_files) != rows * columns:\n",
    "        print(\"The number of npz files must be equal to rows x columns.\")\n",
    "        return\n",
    "\n",
    "    # Load all npz files into memory first\n",
    "    loaded_npzs = [np.load(npz_file).get(\"chips\") for npz_file in npz_files]\n",
    "    \n",
    "    # Determine the maximum time steps across all loaded npz files\n",
    "    max_time_steps = max(chips.shape[0] for chips in loaded_npzs)\n",
    "\n",
    "    for time_step in tqdm(range(max_time_steps)):\n",
    "        # Create a blank (black) image to paste the sub-images onto\n",
    "        combined_image = Image.new('RGB', (columns * 512, rows * 512), 'black')\n",
    "\n",
    "        for idx, chips in enumerate(loaded_npzs):\n",
    "            # Check if the current time_step is within bounds for this chip\n",
    "            if time_step >= chips.shape[0]:\n",
    "                continue\n",
    "\n",
    "            try:\n",
    "                # Extract the image for the current time step\n",
    "                image_data = chips[time_step, [3, 2, 1], :, :]\n",
    "\n",
    "                # Clamp values between 0 and 2500\n",
    "                image_data = np.clip(image_data, 0, 2500).astype(np.float32)\n",
    "\n",
    "                # Convert to RGB format suitable for PNG\n",
    "                image_data = image_data / 2500\n",
    "                image_data = (image_data * 0xff).astype(np.uint8)\n",
    "                \n",
    "                # Transpose the data to meet the RGB channel last format\n",
    "                image_data = np.transpose(image_data, (1, 2, 0))\n",
    "\n",
    "                # Create a PIL image from the numpy array\n",
    "                pil_image = Image.fromarray(image_data, 'RGB')\n",
    "\n",
    "                # Determine where to paste this image on the combined image\n",
    "                x_offset = (idx % columns) * 512\n",
    "                y_offset = (idx // columns) * 512\n",
    "\n",
    "                # Paste the image\n",
    "                combined_image.paste(pil_image, (x_offset, y_offset))\n",
    "\n",
    "            except Exception as e:\n",
    "                print(f\"An error occurred while processing the image: {e}\")\n",
    "\n",
    "        # Save the combined image as a PNG file\n",
    "        combined_image.save(f\"{time_step:05}.png\")\n"
   ]
  },
  {
   "cell_type": "code",
   "execution_count": null,
   "id": "2b242810-6bdb-4657-a37f-2aabfe8d4c3d",
   "metadata": {},
   "outputs": [],
   "source": [
    "!ls"
   ]
  },
  {
   "cell_type": "code",
   "execution_count": null,
   "id": "db93cdaa-f57c-44e2-be56-5dc500cc94b4",
   "metadata": {},
   "outputs": [],
   "source": [
    "!find /datasets/foss4g-data/meadow | grep chip.npz$ | sort -R | head -1"
   ]
  },
  {
   "cell_type": "code",
   "execution_count": null,
   "id": "ea322af0-378c-42d8-8406-edc72f9f2c1f",
   "metadata": {},
   "outputs": [],
   "source": [
    "!find /datasets/foss4g-data/industrial | grep chip.npz$ | sort -R | head -1"
   ]
  },
  {
   "cell_type": "code",
   "execution_count": null,
   "id": "f7531d59-fb87-4dc0-b66a-3bfdd453e46b",
   "metadata": {},
   "outputs": [],
   "source": [
    "!find /datasets/foss4g-data/farmland | grep chip.npz$ | sort -R | head -1"
   ]
  },
  {
   "cell_type": "code",
   "execution_count": null,
   "id": "641be04b-c20c-41db-a9ce-3b5fc05d2688",
   "metadata": {},
   "outputs": [],
   "source": [
    "!find /datasets/foss4g-data/vineyard | grep chip.npz$ | sort -R | head -1"
   ]
  },
  {
   "cell_type": "code",
   "execution_count": null,
   "id": "a4c2742a-5e2a-4a96-8a10-6e5566f4f43d",
   "metadata": {},
   "outputs": [],
   "source": [
    "!find /datasets/foss4g-data/grass | grep chip.npz$ | sort -R | head -1"
   ]
  },
  {
   "cell_type": "code",
   "execution_count": null,
   "id": "988b4e0c-96bd-437a-8621-9af05273c81c",
   "metadata": {},
   "outputs": [],
   "source": [
    "!find /datasets/foss4g-data/orchard | grep chip.npz$ | sort -R | head -1"
   ]
  },
  {
   "cell_type": "code",
   "execution_count": null,
   "id": "c09e579b-e3cd-4b00-a194-f3040b4ed425",
   "metadata": {},
   "outputs": [],
   "source": [
    "npz_list = [\n",
    "    \"/datasets/foss4g-data/meadow/33TWM/1202303122202/chip/359083c3f11c40be9f5d1244bc212298.chip.npz\",\n",
    "    \"/datasets/foss4g-data/industrial/38VPH/1210222331021/chip/c37cae4398ed4cecba4d754a37ab275d.chip.npz\",\n",
    "    \"/datasets/foss4g-data/farmland/38KQV/3012000311102/chip/d7abba52bf814680b16dbe91cced6be1.chip.npz\",\n",
    "    \"/datasets/foss4g-data/vineyard/30SVJ/0331110313000/chip/4058cd26558a486c9b541597e467d1dc.chip.npz\",\n",
    "    \"/datasets/foss4g-data/grass/37UCB/1203101001123/chip/6fe1de63e8734d2daa1952c8caa37e9d.chip.npz\",\n",
    "    \"/datasets/foss4g-data/orchard/31TCG/1202222203110/chip/5ed0bed63a5b411abae869c2b456a77b.chip.npz\",\n",
    "]"
   ]
  },
  {
   "cell_type": "code",
   "execution_count": null,
   "id": "06dde7ff-8616-4d2e-be68-4b0993cbf34a",
   "metadata": {},
   "outputs": [],
   "source": [
    "convert_to_png(npz_list, 2, 3)"
   ]
  },
  {
   "cell_type": "code",
   "execution_count": null,
   "id": "f81a84e1-6b6a-4a0e-839b-efdc11886164",
   "metadata": {},
   "outputs": [],
   "source": [
    "!ls"
   ]
  },
  {
   "cell_type": "code",
   "execution_count": null,
   "id": "6b97ef29-f8bc-433d-ba71-9bf44b7cbd86",
   "metadata": {},
   "outputs": [],
   "source": [
    "!rm *.png"
   ]
  },
  {
   "cell_type": "markdown",
   "id": "160e5e91-1627-4216-a6e8-3708b328e1de",
   "metadata": {},
   "source": [
    "ffmpeg -framerate 1 -i %05d.png -vf \"loop=0\" -y output.gif"
   ]
  },
  {
   "cell_type": "code",
   "execution_count": null,
   "id": "848d659c-5854-4ef2-a6d9-fadaa2aa2572",
   "metadata": {},
   "outputs": [],
   "source": [
    "!ls /datasets/sentinel2-timeseries/Giza/chip/"
   ]
  },
  {
   "cell_type": "code",
   "execution_count": null,
   "id": "03624cdf-07f0-4f67-b904-ec306302cb74",
   "metadata": {},
   "outputs": [],
   "source": [
    "convert_to_png([\"/datasets/sentinel2-timeseries/Charlston_SC/chip/87239307520f44c2be8f5b62ea007adf.chip.npz\"], 1, 1)"
   ]
  },
  {
   "cell_type": "code",
   "execution_count": null,
   "id": "5bb61c26-0cc4-4926-b120-aa4a873e9dc3",
   "metadata": {},
   "outputs": [],
   "source": [
    "!rm *.png"
   ]
  },
  {
   "cell_type": "code",
   "execution_count": null,
   "id": "03f6cd44-104e-49e3-a48f-70acc277ac80",
   "metadata": {},
   "outputs": [],
   "source": []
  }
 ],
 "metadata": {
  "kernelspec": {
   "display_name": "Python 3 (ipykernel)",
   "language": "python",
   "name": "python3"
  },
  "language_info": {
   "codemirror_mode": {
    "name": "ipython",
    "version": 3
   },
   "file_extension": ".py",
   "mimetype": "text/x-python",
   "name": "python",
   "nbconvert_exporter": "python",
   "pygments_lexer": "ipython3",
   "version": "3.10.11"
  }
 },
 "nbformat": 4,
 "nbformat_minor": 5
}
