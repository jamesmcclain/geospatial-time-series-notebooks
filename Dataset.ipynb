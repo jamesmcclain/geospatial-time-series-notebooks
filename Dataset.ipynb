{
 "cells": [
  {
   "cell_type": "code",
   "execution_count": null,
   "id": "1f4c613c-084e-4a62-9f3a-0bd533f58077",
   "metadata": {},
   "outputs": [],
   "source": [
    "import sys\n",
    "sys.path.append(\"/workdir/unsupervised_pretrain/\")"
   ]
  },
  {
   "cell_type": "code",
   "execution_count": null,
   "id": "e947f4e4-7c25-431e-90b5-720e38d78585",
   "metadata": {},
   "outputs": [],
   "source": [
    "import numpy as np\n",
    "import json\n",
    "import torch\n",
    "from InstructorEmbedding import INSTRUCTOR\n",
    "from tqdm.notebook import tqdm\n",
    "from sklearn.manifold import TSNE\n",
    "import matplotlib.pyplot as plt"
   ]
  },
  {
   "cell_type": "markdown",
   "id": "4c231e3f-3758-49d3-bf84-de5ad97e1954",
   "metadata": {},
   "source": [
    "# Load and embed #"
   ]
  },
  {
   "cell_type": "code",
   "execution_count": null,
   "id": "c2d65fb9-4565-45ac-9f7f-cb23019a4f03",
   "metadata": {},
   "outputs": [],
   "source": [
    "device = torch.device(\"cuda\")"
   ]
  },
  {
   "cell_type": "code",
   "execution_count": null,
   "id": "6a6c9b34-7cc4-445b-b7f1-56e15ba716e3",
   "metadata": {},
   "outputs": [],
   "source": [
    "embed_model = INSTRUCTOR(\"hkunlp/instructor-xl\").to(device)\n",
    "embed_model.max_seq_length = 4096"
   ]
  },
  {
   "cell_type": "code",
   "execution_count": null,
   "id": "5cad1241-f75e-4975-ad65-c165a4fc8ff9",
   "metadata": {},
   "outputs": [],
   "source": [
    "with open(\"/datasets/datasets/unsupervised-sentinel2/testset-16SEF/testset-16SEF-512.json\", \"r\") as f:\n",
    "    data = json.load(f)"
   ]
  },
  {
   "cell_type": "code",
   "execution_count": null,
   "id": "954cd88d-9580-4bba-aed2-1ef9a1b6af8a",
   "metadata": {},
   "outputs": [],
   "source": [
    "instruction = \"Represent the geospatial data (the number, proportion, and description of geographic features) for clustering:\""
   ]
  },
  {
   "cell_type": "code",
   "execution_count": null,
   "id": "dfd5670f-2aef-4d56-8f64-0b82c89845eb",
   "metadata": {},
   "outputs": [],
   "source": [
    "pairs = []\n",
    "for datum in data:\n",
    "    pairs.append([instruction, datum])"
   ]
  },
  {
   "cell_type": "code",
   "execution_count": null,
   "id": "335a595e-91dd-47e0-97a2-0640a528f5da",
   "metadata": {},
   "outputs": [],
   "source": [
    "embeddings = embed_model.encode(pairs)"
   ]
  },
  {
   "cell_type": "code",
   "execution_count": null,
   "id": "d2b6b05b-94fd-4dd2-8fcb-c8d4c566ce05",
   "metadata": {},
   "outputs": [],
   "source": [
    "normalized_embeddings = embeddings / np.linalg.norm(embeddings, axis=1, keepdims=True)"
   ]
  },
  {
   "cell_type": "markdown",
   "id": "6d5c4ade-dd5e-4d0b-8edd-79955129a048",
   "metadata": {},
   "source": [
    "# Visualize #"
   ]
  },
  {
   "cell_type": "code",
   "execution_count": null,
   "id": "a5548d6b-23f2-4e88-a87e-ce4ec6a1b05b",
   "metadata": {},
   "outputs": [],
   "source": [
    "tsne = TSNE(n_components=2, random_state=0)"
   ]
  },
  {
   "cell_type": "markdown",
   "id": "57365794-77bc-4838-b6ef-29d9883cca24",
   "metadata": {},
   "source": [
    "## Directly from `instructor-xl` ##"
   ]
  },
  {
   "cell_type": "code",
   "execution_count": null,
   "id": "d60cdfeb-7a84-4abe-b28a-60e94f705423",
   "metadata": {},
   "outputs": [],
   "source": [
    "data_2d = tsne.fit_transform(normalized_embeddings)\n",
    "\n",
    "# plot the result\n",
    "plt.figure(figsize=(6, 5))\n",
    "plt.scatter(data_2d[:, 0], data_2d[:, 1])\n",
    "plt.xlabel(\"t-SNE feature 0\")\n",
    "plt.ylabel(\"t-SNE feature 1\")\n",
    "plt.show()"
   ]
  },
  {
   "cell_type": "markdown",
   "id": "4f5afd7a-19ab-4a98-9911-e8c12d4fda5e",
   "metadata": {},
   "source": [
    "## From `.npy` files ##"
   ]
  },
  {
   "cell_type": "code",
   "execution_count": null,
   "id": "7e65e170-ba85-4219-ac40-99867e18733b",
   "metadata": {},
   "outputs": [],
   "source": [
    "import glob\n",
    "npy_embeddings = []\n",
    "for filename in glob.glob(\"/datasets/datasets/unsupervised-sentinel2/testset-16SEF/*.npy\", recursive=True):\n",
    "    npy_embeddings.append(np.load(filename))\n",
    "npy_embeddings = np.concatenate(npy_embeddings, axis=0)\n",
    "npy_embeddings = npy_embeddings / np.linalg.norm(npy_embeddings, axis=1, keepdims=True)"
   ]
  },
  {
   "cell_type": "code",
   "execution_count": null,
   "id": "fd30b83d-a734-45c8-8622-c022e063d39c",
   "metadata": {},
   "outputs": [],
   "source": [
    "data_2d = tsne.fit_transform(npy_embeddings)\n",
    "\n",
    "# plot the result\n",
    "plt.figure(figsize=(6, 5))\n",
    "plt.scatter(data_2d[:, 0], data_2d[:, 1])\n",
    "plt.xlabel(\"t-SNE feature 0\")\n",
    "plt.ylabel(\"t-SNE feature 1\")\n",
    "plt.show()"
   ]
  },
  {
   "cell_type": "markdown",
   "id": "5bc11fa6-831a-467b-90d9-ca6a04cecf6b",
   "metadata": {},
   "source": [
    "## From `SeriesEmbedDataset` ##"
   ]
  },
  {
   "cell_type": "code",
   "execution_count": null,
   "id": "49352f95-797e-499b-a539-e58cd6050529",
   "metadata": {},
   "outputs": [],
   "source": [
    "from datasets import SeriesEmbedDataset"
   ]
  },
  {
   "cell_type": "code",
   "execution_count": null,
   "id": "b7c6be2a-46ca-4302-a7b9-6404987869af",
   "metadata": {},
   "outputs": [],
   "source": [
    "ds = SeriesEmbedDataset([\"/datasets/datasets/unsupervised-sentinel2/testset-16SEF/\"], size=512, series_length=20)"
   ]
  },
  {
   "cell_type": "code",
   "execution_count": null,
   "id": "4a72c911-b631-4687-80ee-796592b117f7",
   "metadata": {},
   "outputs": [],
   "source": [
    "ds_embeddings = []\n",
    "with torch.inference_mode():\n",
    "    for i in tqdm(range(0, len(ds), 2)):\n",
    "        _, _, embedding = ds[i]\n",
    "        ds_embeddings.append(embedding.reshape(1,-1))\n",
    "ds_embeddings = np.concatenate(ds_embeddings, axis=0)"
   ]
  },
  {
   "cell_type": "code",
   "execution_count": null,
   "id": "34465199-9b16-4b0e-8162-bdd67ed07ca2",
   "metadata": {},
   "outputs": [],
   "source": [
    "ds_embeddings /= np.linalg.norm(ds_embeddings, axis=1, keepdims=True)"
   ]
  },
  {
   "cell_type": "code",
   "execution_count": null,
   "id": "057d6605-5bb1-4047-879b-9fcfff3b3df4",
   "metadata": {},
   "outputs": [],
   "source": [
    "data_2d = tsne.fit_transform(ds_embeddings)\n",
    "\n",
    "# plot the result\n",
    "plt.figure(figsize=(6, 5))\n",
    "plt.scatter(data_2d[:, 0], data_2d[:, 1])\n",
    "plt.xlabel(\"t-SNE feature 0\")\n",
    "plt.ylabel(\"t-SNE feature 1\")\n",
    "plt.show()"
   ]
  },
  {
   "cell_type": "code",
   "execution_count": null,
   "id": "e631a1d0-e2f1-45d4-a75d-1a2809ecc582",
   "metadata": {},
   "outputs": [],
   "source": []
  }
 ],
 "metadata": {
  "kernelspec": {
   "display_name": "Python 3 (ipykernel)",
   "language": "python",
   "name": "python3"
  },
  "language_info": {
   "codemirror_mode": {
    "name": "ipython",
    "version": 3
   },
   "file_extension": ".py",
   "mimetype": "text/x-python",
   "name": "python",
   "nbconvert_exporter": "python",
   "pygments_lexer": "ipython3",
   "version": "3.10.11"
  }
 },
 "nbformat": 4,
 "nbformat_minor": 5
}
