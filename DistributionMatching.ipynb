{
 "cells": [
  {
   "cell_type": "code",
   "execution_count": null,
   "id": "91ca2d3f-6459-4a2e-87a5-930ca10f401e",
   "metadata": {},
   "outputs": [],
   "source": [
    "import sys\n",
    "sys.path.append(\"/workdir/unsupervised_pretrain/\")"
   ]
  },
  {
   "cell_type": "code",
   "execution_count": null,
   "id": "a9f93db6-464b-4eb8-9ad9-5ceacaa15d3d",
   "metadata": {},
   "outputs": [],
   "source": [
    "import json\n",
    "\n",
    "import matplotlib.pyplot as plt\n",
    "import numpy as np\n",
    "import torch\n",
    "import torch.nn.functional as F\n",
    "from datasets import SeriesEmbedDataset\n",
    "from models import Hat, SeriesResNet18\n",
    "from sklearn.manifold import TSNE\n",
    "from tqdm.notebook import tqdm"
   ]
  },
  {
   "cell_type": "code",
   "execution_count": null,
   "id": "de2f3986-7460-492c-8ad1-2d4d4fa607d7",
   "metadata": {},
   "outputs": [],
   "source": [
    "ds = SeriesEmbedDataset([\"/datasets/datasets/berlin/33UUU/\"], size=512, series_length=8)"
   ]
  },
  {
   "cell_type": "code",
   "execution_count": null,
   "id": "313eb452-d49a-477c-bf77-8840709be517",
   "metadata": {},
   "outputs": [],
   "source": [
    "device = torch.device(\"cuda\")"
   ]
  },
  {
   "cell_type": "code",
   "execution_count": null,
   "id": "c1813455-8e14-4bd1-9c46-faeeaadde37f",
   "metadata": {},
   "outputs": [],
   "source": [
    "visual2text_hat = torch.load(\"/workdir/unsupervised_pretrain/hat1.pth\", map_location=device).to(device)\n",
    "visual2text_hat = visual2text_hat.eval()"
   ]
  },
  {
   "cell_type": "code",
   "execution_count": null,
   "id": "64ed7a99-ea48-4956-98da-181189aec3fe",
   "metadata": {},
   "outputs": [],
   "source": [
    "model = torch.load(\"/workdir/unsupervised_pretrain/model.pth\", map_location=device).to(device)\n",
    "model = model.eval()"
   ]
  },
  {
   "cell_type": "markdown",
   "id": "4c4d707c-68de-47fa-809a-6f94b05ec988",
   "metadata": {},
   "source": [
    "# Load and save #\n",
    "\n",
    "This only needs to happen once."
   ]
  },
  {
   "cell_type": "code",
   "execution_count": null,
   "id": "bf9249fd-a7f8-41a3-a200-49182a9c125d",
   "metadata": {},
   "outputs": [],
   "source": [
    "visual_embeddings = []\n",
    "text_embeddings = []\n",
    "visual2text_embeddings = []\n",
    "\n",
    "with torch.inference_mode():\n",
    "    for i in tqdm(range(0, len(ds), 2)):\n",
    "        imagery, _, text_embedding = ds[i]\n",
    "        imagery = torch.unsqueeze(imagery.to(device), dim=0)\n",
    "\n",
    "        visual_embedding = model(imagery)\n",
    "        visual_embedding = F.normalize(visual_embedding, dim=1)\n",
    "        visual2text_embedding = visual2text_hat(visual_embedding)\n",
    "        visual2text_embedding = F.normalize(visual2text_embedding, dim=1)\n",
    "\n",
    "        text_embedding = torch.unsqueeze(torch.from_numpy(text_embedding), dim=0).to(device)\n",
    "        text_embedding = F.normalize(text_embedding, dim=1)\n",
    "\n",
    "        visual_embedding = visual_embedding.detach().cpu()\n",
    "        visual2text_embedding = visual2text_embedding.detach().cpu()\n",
    "        text_embedding = text_embedding.detach().cpu()\n",
    "\n",
    "        visual_embeddings.append(visual_embedding)\n",
    "        text_embeddings.append(text_embedding)\n",
    "        visual2text_embeddings.append(visual2text_embedding)"
   ]
  },
  {
   "cell_type": "code",
   "execution_count": null,
   "id": "c931f661-e223-4358-aa7a-321a1c969c67",
   "metadata": {},
   "outputs": [],
   "source": [
    "text_embeddings = torch.cat(text_embeddings, dim=0).numpy()\n",
    "np.save(\"/workdir/unsupervised_pretrain/jupyter/berlin-text-embeddings.npy\", text_embeddings)"
   ]
  },
  {
   "cell_type": "code",
   "execution_count": null,
   "id": "c80ecaed-0711-4db0-bd99-fb23f3185592",
   "metadata": {},
   "outputs": [],
   "source": [
    "visual_embeddings = torch.cat(visual_embeddings, dim=0).numpy()\n",
    "np.save(\"/workdir/unsupervised_pretrain/jupyter/berlin-visual-embeddings.npy\", visual_embeddings)"
   ]
  },
  {
   "cell_type": "code",
   "execution_count": null,
   "id": "95cd5865-57c1-4e17-ac83-bf027f1bd991",
   "metadata": {},
   "outputs": [],
   "source": [
    "visual2text_embeddings = torch.cat(visual2text_embeddings, dim=0).numpy()\n",
    "np.save(\"/workdir/unsupervised_pretrain/jupyter/berlin-visual2text-embeddings.npy\", visual2text_embeddings)"
   ]
  },
  {
   "cell_type": "markdown",
   "id": "01097b69-4ab7-4c26-8470-f87ccd88b4c4",
   "metadata": {},
   "source": [
    "# Visualize #"
   ]
  },
  {
   "cell_type": "code",
   "execution_count": null,
   "id": "c64ad93e-5847-4a2f-9d8c-e0d2c1d14da4",
   "metadata": {},
   "outputs": [],
   "source": [
    "text_embeddings = np.load(\"/workdir/unsupervised_pretrain/jupyter/berlin-text-embeddings.npy\")\n",
    "text_mask = (text_embeddings[:, 0] >= torch.inf) + (np.isnan(text_embeddings[:, 0]))\n",
    "text_embeddings[text_mask] = 1.\n",
    "text_embeddings /= np.linalg.norm(text_embeddings, axis=1, keepdims=True)"
   ]
  },
  {
   "cell_type": "code",
   "execution_count": null,
   "id": "61db5f69-ba55-4907-a154-a69c5aab372a",
   "metadata": {},
   "outputs": [],
   "source": [
    "visual_embeddings = np.load(\"/workdir/unsupervised_pretrain/jupyter/berlin-visual-embeddings.npy\")\n",
    "visual_embeddings /= np.linalg.norm(visual_embeddings, axis=1, keepdims=True)"
   ]
  },
  {
   "cell_type": "code",
   "execution_count": null,
   "id": "cc1b5371-9f23-45a8-94ef-b764ddf5a1d2",
   "metadata": {},
   "outputs": [],
   "source": [
    "visual2text_embeddings = np.load(\"/workdir/unsupervised_pretrain/jupyter/berlin-visual2text-embeddings.npy\")\n",
    "visual2text_embeddings /= np.linalg.norm(visual2text_embeddings, axis=1, keepdims=True)"
   ]
  },
  {
   "cell_type": "code",
   "execution_count": null,
   "id": "df68d8c1-3f9b-45f3-a2af-9e7ffd7524d8",
   "metadata": {},
   "outputs": [],
   "source": [
    "tsne = TSNE(n_components=2, random_state=0)\n",
    "\n",
    "data_2d1 = tsne.fit_transform(visual_embeddings)\n",
    "\n",
    "# plot the result\n",
    "plt.figure(figsize=(6, 5))\n",
    "plt.scatter(data_2d1[:, 0], data_2d1[:, 1])\n",
    "plt.xlabel(\"t-SNE feature 0\")\n",
    "plt.ylabel(\"t-SNE feature 1\")\n",
    "plt.show()"
   ]
  },
  {
   "cell_type": "code",
   "execution_count": null,
   "id": "6b482db7-60fd-42e2-8bd1-94afd5cc7e14",
   "metadata": {},
   "outputs": [],
   "source": [
    "tsne = TSNE(n_components=2, random_state=0)\n",
    "\n",
    "data_2d1 = tsne.fit_transform(text_embeddings)\n",
    "\n",
    "# plot the result\n",
    "plt.figure(figsize=(6, 5))\n",
    "plt.scatter(data_2d1[:, 0], data_2d1[:, 1])\n",
    "plt.xlabel(\"t-SNE feature 0\")\n",
    "plt.ylabel(\"t-SNE feature 1\")\n",
    "plt.show()"
   ]
  },
  {
   "cell_type": "code",
   "execution_count": null,
   "id": "998f9180-40ff-4e9c-9267-25920c2ce99f",
   "metadata": {},
   "outputs": [],
   "source": [
    "tsne = TSNE(n_components=2, random_state=0)\n",
    "\n",
    "data_2d1 = tsne.fit_transform(text_embeddings)\n",
    "data_2d2 = tsne.fit_transform(visual2text_embeddings)\n",
    "\n",
    "# plot the result\n",
    "plt.figure(figsize=(6, 5))\n",
    "plt.scatter(data_2d1[:, 0], data_2d1[:, 1])\n",
    "plt.scatter(data_2d2[:, 0], data_2d2[:, 1])\n",
    "plt.xlabel(\"t-SNE feature 0\")\n",
    "plt.ylabel(\"t-SNE feature 1\")\n",
    "plt.show()"
   ]
  },
  {
   "cell_type": "code",
   "execution_count": null,
   "id": "3ba7ef14-3b16-4df8-9653-b350ea9c6771",
   "metadata": {},
   "outputs": [],
   "source": [
    "np.linalg.norm(text_embeddings, axis=1, keepdims=True)[42]"
   ]
  },
  {
   "cell_type": "code",
   "execution_count": null,
   "id": "758e8b2c-6efb-4ef0-8656-4161db927550",
   "metadata": {},
   "outputs": [],
   "source": [
    "np.linalg.norm(visual2text_embeddings, axis=1, keepdims=True)[42]"
   ]
  },
  {
   "cell_type": "code",
   "execution_count": null,
   "id": "1b1afb35-6b87-4312-ac8f-4f5b768cfbd7",
   "metadata": {},
   "outputs": [],
   "source": [
    "text_embeddings[42].shape"
   ]
  },
  {
   "cell_type": "code",
   "execution_count": null,
   "id": "145deb7f-56f4-435e-939b-9db8797672df",
   "metadata": {},
   "outputs": [],
   "source": [
    "visual2text_embeddings[42].shape"
   ]
  },
  {
   "cell_type": "code",
   "execution_count": null,
   "id": "ceb76fb5-5c1f-4071-aec2-42dc69c6530a",
   "metadata": {},
   "outputs": [],
   "source": [
    "from sklearn.metrics.pairwise import cosine_similarity\n",
    "from scipy.spatial.distance import cdist"
   ]
  },
  {
   "cell_type": "code",
   "execution_count": null,
   "id": "55c03912-4317-45e9-b0cf-3525a773000a",
   "metadata": {},
   "outputs": [],
   "source": []
  }
 ],
 "metadata": {
  "kernelspec": {
   "display_name": "Python 3 (ipykernel)",
   "language": "python",
   "name": "python3"
  },
  "language_info": {
   "codemirror_mode": {
    "name": "ipython",
    "version": 3
   },
   "file_extension": ".py",
   "mimetype": "text/x-python",
   "name": "python",
   "nbconvert_exporter": "python",
   "pygments_lexer": "ipython3",
   "version": "3.10.11"
  }
 },
 "nbformat": 4,
 "nbformat_minor": 5
}
