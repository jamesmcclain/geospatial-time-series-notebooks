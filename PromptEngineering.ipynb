{
 "cells": [
  {
   "cell_type": "code",
   "execution_count": 19,
   "id": "0614d4e8-0922-4e35-a317-febbcfa9fd35",
   "metadata": {},
   "outputs": [],
   "source": [
    "import numpy as np\n",
    "import json\n",
    "import torch\n",
    "from InstructorEmbedding import INSTRUCTOR\n",
    "from tqdm.notebook import tqdm\n",
    "from sklearn.manifold import TSNE\n",
    "import matplotlib.pyplot as plt\n",
    "\n",
    "from scipy.spatial.distance import cdist\n",
    "from sklearn.metrics.pairwise import cosine_similarity"
   ]
  },
  {
   "cell_type": "code",
   "execution_count": 3,
   "id": "113b700f-bf2c-49ad-937f-f757dc7bd949",
   "metadata": {},
   "outputs": [
    {
     "name": "stdout",
     "output_type": "stream",
     "text": [
      "load INSTRUCTOR_Transformer\n",
      "max_seq_length  512\n"
     ]
    }
   ],
   "source": [
    "device = torch.device(\"cuda\")\n",
    "embed_model = INSTRUCTOR(\"hkunlp/instructor-xl\").to(device)\n",
    "embed_model.max_seq_length = 4096"
   ]
  },
  {
   "cell_type": "code",
   "execution_count": 4,
   "id": "ae5ceb65-c53b-4a07-bfa9-f067969a05b9",
   "metadata": {},
   "outputs": [],
   "source": [
    "with open(\"/workdir/unsupervised_pretrain/labels.json\", \"r\") as f:\n",
    "    data = json.load(f)"
   ]
  },
  {
   "cell_type": "code",
   "execution_count": 5,
   "id": "3eaa743f-25cf-4630-802f-e56570f228cc",
   "metadata": {},
   "outputs": [],
   "source": [
    "instruction = \"Represent the geospatial data for retrieval; Input: \""
   ]
  },
  {
   "cell_type": "code",
   "execution_count": 10,
   "id": "e7ded89f-320f-4044-a362-17c028477522",
   "metadata": {},
   "outputs": [],
   "source": [
    "pairs = []\n",
    "for datum in data:\n",
    "    pairs.append([instruction, datum])\n",
    "embeddings = embed_model.encode(pairs)"
   ]
  },
  {
   "cell_type": "code",
   "execution_count": 14,
   "id": "d7b22517-43d8-4db5-9b53-165d3ba169eb",
   "metadata": {},
   "outputs": [],
   "source": [
    "normalized_embeddings = embeddings / np.linalg.norm(embeddings, axis=1, keepdims=True)"
   ]
  },
  {
   "cell_type": "code",
   "execution_count": 15,
   "id": "9073e425-db4c-4ba3-8902-88118c5505c9",
   "metadata": {},
   "outputs": [
    {
     "data": {
      "image/png": "[encoded data removed]",
      "text/plain": [
       "<Figure size 600x500 with 1 Axes>"
      ]
     },
     "metadata": {},
     "output_type": "display_data"
    }
   ],
   "source": [
    "tsne = TSNE(n_components=2, random_state=0)\n",
    "\n",
    "data_2d = tsne.fit_transform(normalized_embeddings)\n",
    "\n",
    "# plot the result\n",
    "plt.figure(figsize=(6, 5))\n",
    "plt.scatter(data_2d[:, 0], data_2d[:, 1])\n",
    "plt.xlabel(\"t-SNE feature 0\")\n",
    "plt.ylabel(\"t-SNE feature 1\")\n",
    "plt.show()"
   ]
  },
  {
   "cell_type": "markdown",
   "id": "5f633e16-4c21-4650-9ce9-f39cc0a01d9b",
   "metadata": {},
   "source": [
    "# Similarity/Retrieval #"
   ]
  },
  {
   "cell_type": "code",
   "execution_count": 20,
   "id": "2a00645a-9215-440f-8fe6-7f11d3cca106",
   "metadata": {},
   "outputs": [],
   "source": [
    "def top_k_query_cosine(query_vector, data, k):\n",
    "    cosine_similarities = cosine_similarity(data, query_vector.reshape(1, -1)).flatten()\n",
    "    top_k_indices = np.argpartition(-cosine_similarities, k)[:k]\n",
    "    return top_k_indices"
   ]
  },
  {
   "cell_type": "code",
   "execution_count": 16,
   "id": "29d33899-4dd5-4beb-90e4-9bfd39790a51",
   "metadata": {},
   "outputs": [],
   "source": [
    "query_instruction = \"Represent the geospatial data for retrieving similar data; Input: \""
   ]
  },
  {
   "cell_type": "code",
   "execution_count": 45,
   "id": "babfb523-e0d2-4823-9787-a7d4da4ac888",
   "metadata": {},
   "outputs": [],
   "source": [
    "query_embedding = embed_model.encode([[query_instruction, \"Buildings: zero. Land use land cover: river\"]])\n",
    "query_embedding = query_embedding / np.linalg.norm(query_embedding, axis=1, keepdims=True)"
   ]
  },
  {
   "cell_type": "code",
   "execution_count": 46,
   "id": "0152444d-6774-4a7a-9bfd-24110617b053",
   "metadata": {},
   "outputs": [
    {
     "data": {
      "text/plain": [
       "array([230, 146, 145, 204, 245])"
      ]
     },
     "execution_count": 46,
     "metadata": {},
     "output_type": "execute_result"
    }
   ],
   "source": [
    "top_k_query_cosine(query_embedding, embeddings, 5)"
   ]
  },
  {
   "cell_type": "code",
   "execution_count": null,
   "id": "b88b8aa8-eb22-4a36-93ce-61f1f1791331",
   "metadata": {},
   "outputs": [],
   "source": []
  }
 ],
 "metadata": {
  "kernelspec": {
   "display_name": "Python 3 (ipykernel)",
   "language": "python",
   "name": "python3"
  },
  "language_info": {
   "codemirror_mode": {
    "name": "ipython",
    "version": 3
   },
   "file_extension": ".py",
   "mimetype": "text/x-python",
   "name": "python",
   "nbconvert_exporter": "python",
   "pygments_lexer": "ipython3",
   "version": "3.10.11"
  }
 },
 "nbformat": 4,
 "nbformat_minor": 5
}
